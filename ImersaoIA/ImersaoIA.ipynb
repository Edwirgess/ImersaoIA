{
  "cells": [
    {
      "cell_type": "code",
      "execution_count": 1,
      "metadata": {
        "colab": {
          "base_uri": "https://localhost:8080/"
        },
        "id": "NOM0W955AdRE",
        "outputId": "bb65fd78-d83f-4ad1-b8f0-33cc582a0dbc"
      },
      "outputs": [
        {
          "name": "stdout",
          "output_type": "stream",
          "text": [
            "Requirement already satisfied: google-genai in /usr/local/lib/python3.11/dist-packages (1.15.0)\n",
            "Requirement already satisfied: google-adk in /usr/local/lib/python3.11/dist-packages (0.5.0)\n",
            "Requirement already satisfied: anyio<5.0.0,>=4.8.0 in /usr/local/lib/python3.11/dist-packages (from google-genai) (4.9.0)\n",
            "Requirement already satisfied: google-auth<3.0.0,>=2.14.1 in /usr/local/lib/python3.11/dist-packages (from google-genai) (2.38.0)\n",
            "Requirement already satisfied: httpx<1.0.0,>=0.28.1 in /usr/local/lib/python3.11/dist-packages (from google-genai) (0.28.1)\n",
            "Requirement already satisfied: pydantic<3.0.0,>=2.0.0 in /usr/local/lib/python3.11/dist-packages (from google-genai) (2.11.4)\n",
            "Requirement already satisfied: requests<3.0.0,>=2.28.1 in /usr/local/lib/python3.11/dist-packages (from google-genai) (2.32.3)\n",
            "Requirement already satisfied: websockets<15.1.0,>=13.0.0 in /usr/local/lib/python3.11/dist-packages (from google-genai) (15.0.1)\n",
            "Requirement already satisfied: typing-extensions<5.0.0,>=4.11.0 in /usr/local/lib/python3.11/dist-packages (from google-genai) (4.13.2)\n",
            "Requirement already satisfied: authlib>=1.5.1 in /usr/local/lib/python3.11/dist-packages (from google-adk) (1.5.2)\n",
            "Requirement already satisfied: click>=8.1.8 in /usr/local/lib/python3.11/dist-packages (from google-adk) (8.2.0)\n",
            "Requirement already satisfied: fastapi>=0.115.0 in /usr/local/lib/python3.11/dist-packages (from google-adk) (0.115.12)\n",
            "Requirement already satisfied: google-api-python-client>=2.157.0 in /usr/local/lib/python3.11/dist-packages (from google-adk) (2.169.0)\n",
            "Requirement already satisfied: google-cloud-aiplatform>=1.87.0 in /usr/local/lib/python3.11/dist-packages (from google-adk) (1.92.0)\n",
            "Requirement already satisfied: google-cloud-secret-manager>=2.22.0 in /usr/local/lib/python3.11/dist-packages (from google-adk) (2.23.3)\n",
            "Requirement already satisfied: google-cloud-speech>=2.30.0 in /usr/local/lib/python3.11/dist-packages (from google-adk) (2.32.0)\n",
            "Requirement already satisfied: google-cloud-storage<3.0.0,>=2.18.0 in /usr/local/lib/python3.11/dist-packages (from google-adk) (2.19.0)\n",
            "Requirement already satisfied: graphviz>=0.20.2 in /usr/local/lib/python3.11/dist-packages (from google-adk) (0.20.3)\n",
            "Requirement already satisfied: mcp>=1.5.0 in /usr/local/lib/python3.11/dist-packages (from google-adk) (1.9.0)\n",
            "Requirement already satisfied: opentelemetry-api>=1.31.0 in /usr/local/lib/python3.11/dist-packages (from google-adk) (1.33.1)\n",
            "Requirement already satisfied: opentelemetry-exporter-gcp-trace>=1.9.0 in /usr/local/lib/python3.11/dist-packages (from google-adk) (1.9.0)\n",
            "Requirement already satisfied: opentelemetry-sdk>=1.31.0 in /usr/local/lib/python3.11/dist-packages (from google-adk) (1.33.1)\n",
            "Requirement already satisfied: python-dotenv>=1.0.0 in /usr/local/lib/python3.11/dist-packages (from google-adk) (1.1.0)\n",
            "Requirement already satisfied: PyYAML>=6.0.2 in /usr/local/lib/python3.11/dist-packages (from google-adk) (6.0.2)\n",
            "Requirement already satisfied: sqlalchemy>=2.0 in /usr/local/lib/python3.11/dist-packages (from google-adk) (2.0.40)\n",
            "Requirement already satisfied: tzlocal>=5.3 in /usr/local/lib/python3.11/dist-packages (from google-adk) (5.3.1)\n",
            "Requirement already satisfied: uvicorn>=0.34.0 in /usr/local/lib/python3.11/dist-packages (from google-adk) (0.34.2)\n",
            "Requirement already satisfied: idna>=2.8 in /usr/local/lib/python3.11/dist-packages (from anyio<5.0.0,>=4.8.0->google-genai) (3.10)\n",
            "Requirement already satisfied: sniffio>=1.1 in /usr/local/lib/python3.11/dist-packages (from anyio<5.0.0,>=4.8.0->google-genai) (1.3.1)\n",
            "Requirement already satisfied: cryptography in /usr/local/lib/python3.11/dist-packages (from authlib>=1.5.1->google-adk) (43.0.3)\n",
            "Requirement already satisfied: starlette<0.47.0,>=0.40.0 in /usr/local/lib/python3.11/dist-packages (from fastapi>=0.115.0->google-adk) (0.46.2)\n",
            "Requirement already satisfied: httplib2<1.0.0,>=0.19.0 in /usr/local/lib/python3.11/dist-packages (from google-api-python-client>=2.157.0->google-adk) (0.22.0)\n",
            "Requirement already satisfied: google-auth-httplib2<1.0.0,>=0.2.0 in /usr/local/lib/python3.11/dist-packages (from google-api-python-client>=2.157.0->google-adk) (0.2.0)\n",
            "Requirement already satisfied: google-api-core!=2.0.*,!=2.1.*,!=2.2.*,!=2.3.0,<3.0.0,>=1.31.5 in /usr/local/lib/python3.11/dist-packages (from google-api-python-client>=2.157.0->google-adk) (2.24.2)\n",
            "Requirement already satisfied: uritemplate<5,>=3.0.1 in /usr/local/lib/python3.11/dist-packages (from google-api-python-client>=2.157.0->google-adk) (4.1.1)\n",
            "Requirement already satisfied: cachetools<6.0,>=2.0.0 in /usr/local/lib/python3.11/dist-packages (from google-auth<3.0.0,>=2.14.1->google-genai) (5.5.2)\n",
            "Requirement already satisfied: pyasn1-modules>=0.2.1 in /usr/local/lib/python3.11/dist-packages (from google-auth<3.0.0,>=2.14.1->google-genai) (0.4.2)\n",
            "Requirement already satisfied: rsa<5,>=3.1.4 in /usr/local/lib/python3.11/dist-packages (from google-auth<3.0.0,>=2.14.1->google-genai) (4.9.1)\n",
            "Requirement already satisfied: proto-plus<2.0.0,>=1.22.3 in /usr/local/lib/python3.11/dist-packages (from google-cloud-aiplatform>=1.87.0->google-adk) (1.26.1)\n",
            "Requirement already satisfied: protobuf!=4.21.0,!=4.21.1,!=4.21.2,!=4.21.3,!=4.21.4,!=4.21.5,<7.0.0,>=3.20.2 in /usr/local/lib/python3.11/dist-packages (from google-cloud-aiplatform>=1.87.0->google-adk) (5.29.4)\n",
            "Requirement already satisfied: packaging>=14.3 in /usr/local/lib/python3.11/dist-packages (from google-cloud-aiplatform>=1.87.0->google-adk) (24.2)\n",
            "Requirement already satisfied: google-cloud-bigquery!=3.20.0,<4.0.0,>=1.15.0 in /usr/local/lib/python3.11/dist-packages (from google-cloud-aiplatform>=1.87.0->google-adk) (3.32.0)\n",
            "Requirement already satisfied: google-cloud-resource-manager<3.0.0,>=1.3.3 in /usr/local/lib/python3.11/dist-packages (from google-cloud-aiplatform>=1.87.0->google-adk) (1.14.2)\n",
            "Requirement already satisfied: shapely<3.0.0 in /usr/local/lib/python3.11/dist-packages (from google-cloud-aiplatform>=1.87.0->google-adk) (2.1.0)\n",
            "Requirement already satisfied: docstring-parser<1 in /usr/local/lib/python3.11/dist-packages (from google-cloud-aiplatform>=1.87.0->google-adk) (0.16)\n",
            "Requirement already satisfied: grpc-google-iam-v1<1.0.0,>=0.14.0 in /usr/local/lib/python3.11/dist-packages (from google-cloud-secret-manager>=2.22.0->google-adk) (0.14.2)\n",
            "Requirement already satisfied: google-cloud-core<3.0dev,>=2.3.0 in /usr/local/lib/python3.11/dist-packages (from google-cloud-storage<3.0.0,>=2.18.0->google-adk) (2.4.3)\n",
            "Requirement already satisfied: google-resumable-media>=2.7.2 in /usr/local/lib/python3.11/dist-packages (from google-cloud-storage<3.0.0,>=2.18.0->google-adk) (2.7.2)\n",
            "Requirement already satisfied: google-crc32c<2.0dev,>=1.0 in /usr/local/lib/python3.11/dist-packages (from google-cloud-storage<3.0.0,>=2.18.0->google-adk) (1.7.1)\n",
            "Requirement already satisfied: certifi in /usr/local/lib/python3.11/dist-packages (from httpx<1.0.0,>=0.28.1->google-genai) (2025.4.26)\n",
            "Requirement already satisfied: httpcore==1.* in /usr/local/lib/python3.11/dist-packages (from httpx<1.0.0,>=0.28.1->google-genai) (1.0.9)\n",
            "Requirement already satisfied: h11>=0.16 in /usr/local/lib/python3.11/dist-packages (from httpcore==1.*->httpx<1.0.0,>=0.28.1->google-genai) (0.16.0)\n",
            "Requirement already satisfied: httpx-sse>=0.4 in /usr/local/lib/python3.11/dist-packages (from mcp>=1.5.0->google-adk) (0.4.0)\n",
            "Requirement already satisfied: pydantic-settings>=2.5.2 in /usr/local/lib/python3.11/dist-packages (from mcp>=1.5.0->google-adk) (2.9.1)\n",
            "Requirement already satisfied: python-multipart>=0.0.9 in /usr/local/lib/python3.11/dist-packages (from mcp>=1.5.0->google-adk) (0.0.20)\n",
            "Requirement already satisfied: sse-starlette>=1.6.1 in /usr/local/lib/python3.11/dist-packages (from mcp>=1.5.0->google-adk) (2.3.5)\n",
            "Requirement already satisfied: deprecated>=1.2.6 in /usr/local/lib/python3.11/dist-packages (from opentelemetry-api>=1.31.0->google-adk) (1.2.18)\n",
            "Requirement already satisfied: importlib-metadata<8.7.0,>=6.0 in /usr/local/lib/python3.11/dist-packages (from opentelemetry-api>=1.31.0->google-adk) (8.6.1)\n",
            "Requirement already satisfied: google-cloud-trace~=1.1 in /usr/local/lib/python3.11/dist-packages (from opentelemetry-exporter-gcp-trace>=1.9.0->google-adk) (1.16.1)\n",
            "Requirement already satisfied: opentelemetry-resourcedetector-gcp==1.*,>=1.5.0dev0 in /usr/local/lib/python3.11/dist-packages (from opentelemetry-exporter-gcp-trace>=1.9.0->google-adk) (1.9.0a0)\n",
            "Requirement already satisfied: opentelemetry-semantic-conventions==0.54b1 in /usr/local/lib/python3.11/dist-packages (from opentelemetry-sdk>=1.31.0->google-adk) (0.54b1)\n",
            "Requirement already satisfied: annotated-types>=0.6.0 in /usr/local/lib/python3.11/dist-packages (from pydantic<3.0.0,>=2.0.0->google-genai) (0.7.0)\n",
            "Requirement already satisfied: pydantic-core==2.33.2 in /usr/local/lib/python3.11/dist-packages (from pydantic<3.0.0,>=2.0.0->google-genai) (2.33.2)\n",
            "Requirement already satisfied: typing-inspection>=0.4.0 in /usr/local/lib/python3.11/dist-packages (from pydantic<3.0.0,>=2.0.0->google-genai) (0.4.0)\n",
            "Requirement already satisfied: charset-normalizer<4,>=2 in /usr/local/lib/python3.11/dist-packages (from requests<3.0.0,>=2.28.1->google-genai) (3.4.2)\n",
            "Requirement already satisfied: urllib3<3,>=1.21.1 in /usr/local/lib/python3.11/dist-packages (from requests<3.0.0,>=2.28.1->google-genai) (2.4.0)\n",
            "Requirement already satisfied: greenlet>=1 in /usr/local/lib/python3.11/dist-packages (from sqlalchemy>=2.0->google-adk) (3.2.2)\n",
            "Requirement already satisfied: wrapt<2,>=1.10 in /usr/local/lib/python3.11/dist-packages (from deprecated>=1.2.6->opentelemetry-api>=1.31.0->google-adk) (1.17.2)\n",
            "Requirement already satisfied: googleapis-common-protos<2.0.0,>=1.56.2 in /usr/local/lib/python3.11/dist-packages (from google-api-core!=2.0.*,!=2.1.*,!=2.2.*,!=2.3.0,<3.0.0,>=1.31.5->google-api-python-client>=2.157.0->google-adk) (1.70.0)\n",
            "Requirement already satisfied: grpcio<2.0dev,>=1.33.2 in /usr/local/lib/python3.11/dist-packages (from google-api-core[grpc]!=2.0.*,!=2.1.*,!=2.2.*,!=2.3.*,!=2.4.*,!=2.5.*,!=2.6.*,!=2.7.*,<3.0.0,>=1.34.1->google-cloud-aiplatform>=1.87.0->google-adk) (1.71.0)\n",
            "Requirement already satisfied: grpcio-status<2.0.dev0,>=1.33.2 in /usr/local/lib/python3.11/dist-packages (from google-api-core[grpc]!=2.0.*,!=2.1.*,!=2.2.*,!=2.3.*,!=2.4.*,!=2.5.*,!=2.6.*,!=2.7.*,<3.0.0,>=1.34.1->google-cloud-aiplatform>=1.87.0->google-adk) (1.71.0)\n",
            "Requirement already satisfied: python-dateutil<3.0.0,>=2.8.2 in /usr/local/lib/python3.11/dist-packages (from google-cloud-bigquery!=3.20.0,<4.0.0,>=1.15.0->google-cloud-aiplatform>=1.87.0->google-adk) (2.9.0.post0)\n",
            "Requirement already satisfied: pyparsing!=3.0.0,!=3.0.1,!=3.0.2,!=3.0.3,<4,>=2.4.2 in /usr/local/lib/python3.11/dist-packages (from httplib2<1.0.0,>=0.19.0->google-api-python-client>=2.157.0->google-adk) (3.2.3)\n",
            "Requirement already satisfied: zipp>=3.20 in /usr/local/lib/python3.11/dist-packages (from importlib-metadata<8.7.0,>=6.0->opentelemetry-api>=1.31.0->google-adk) (3.21.0)\n",
            "Requirement already satisfied: pyasn1<0.7.0,>=0.6.1 in /usr/local/lib/python3.11/dist-packages (from pyasn1-modules>=0.2.1->google-auth<3.0.0,>=2.14.1->google-genai) (0.6.1)\n",
            "Requirement already satisfied: numpy>=1.21 in /usr/local/lib/python3.11/dist-packages (from shapely<3.0.0->google-cloud-aiplatform>=1.87.0->google-adk) (2.0.2)\n",
            "Requirement already satisfied: cffi>=1.12 in /usr/local/lib/python3.11/dist-packages (from cryptography->authlib>=1.5.1->google-adk) (1.17.1)\n",
            "Requirement already satisfied: pycparser in /usr/local/lib/python3.11/dist-packages (from cffi>=1.12->cryptography->authlib>=1.5.1->google-adk) (2.22)\n",
            "Requirement already satisfied: six>=1.5 in /usr/local/lib/python3.11/dist-packages (from python-dateutil<3.0.0,>=2.8.2->google-cloud-bigquery!=3.20.0,<4.0.0,>=1.15.0->google-cloud-aiplatform>=1.87.0->google-adk) (1.17.0)\n"
          ]
        }
      ],
      "source": [
        "!pip install -U google-genai google-adk"
      ]
    },
    {
      "cell_type": "code",
      "execution_count": null,
      "metadata": {
        "id": "INeMGHqlAYgM"
      },
      "outputs": [],
      "source": [
        "# Instalar Framework ADK de agentes do Google \n",
        "!pip install -q google-adk"
      ]
    },
    {
      "cell_type": "code",
      "execution_count": null,
      "metadata": {
        "id": "T1arZjhr_fIX"
      },
      "outputs": [],
      "source": [
        "#Importações e Configuração da API Key\n",
        "import os\n",
        "from google.colab import userdata\n",
        "from google import genai\n",
        "from google.adk.agents import Agent\n",
        "from google.adk.runners import Runner\n",
        "from google.adk.sessions import InMemorySessionService\n",
        "from google.adk.tools import google_search\n",
        "from google.genai import types  \n",
        "from datetime import date\n",
        "import textwrap  \n",
        "from IPython.display import display, Markdown  \n",
        "import warnings\n",
        "\n",
        "warnings.filterwarnings(\"ignore\")\n",
        "\n",
        "os.environ[\"GOOGLE_API_KEY\"] = userdata.get('GOOGLE_API_KEY')\n",
        "client = genai.Client()\n",
        "MODEL_ID = \"gemini-2.0-flash\""
      ]
    },
    {
      "cell_type": "code",
      "execution_count": 5,
      "metadata": {
        "id": "9xhoHrKN_kBd"
      },
      "outputs": [],
      "source": [
        "\n",
        "def call_agent(agent: Agent, message_text: str) -> str:\n",
        "    \"\"\"Envia uma mensagem para um agente via Runner e retorna a resposta final.\"\"\"\n",
        "    session_service = InMemorySessionService()\n",
        "    session = session_service.create_session(app_name=agent.name, user_id=\"user1\", session_id=\"session1\")\n",
        "    runner = Runner(agent=agent, app_name=agent.name, session_service=session_service)\n",
        "    content = types.Content(role=\"user\", parts=[types.Part(text=message_text)])\n",
        "\n",
        "    final_response = \"\"\n",
        "    for event in runner.run(user_id=\"user1\", session_id=\"session1\", new_message=content):\n",
        "        if event.is_final_response():\n",
        "            for part in event.content.parts:\n",
        "                if part.text is not None:\n",
        "                    final_response += part.text\n",
        "                    final_response += \"\\n\"\n",
        "    return final_response\n",
        "\n",
        "def to_markdown(text):\n",
        "    \"\"\"Formata texto para Markdown no Colab.\"\"\"\n",
        "    text = text.replace('•', '  *')\n",
        "    return Markdown(textwrap.indent(text, '> ', predicate=lambda _: True))"
      ]
    },
    {
      "cell_type": "code",
      "execution_count": 6,
      "metadata": {
        "id": "69LA55pG_tB6"
      },
      "outputs": [],
      "source": [
        "# Definição do Agente de Turismo para Joao Pessoa\n",
        "def agente_turismo(pergunta, data_de_hoje):\n",
        "    \"\"\"Agente que fornece informações turísticas sobre João Pessoa, Paraíba.\"\"\"\n",
        "    buscador_turismo = Agent(\n",
        "        name=\"agente_turismoa\",\n",
        "        model=\"gemini-2.0-flash\",\n",
        "        instruction=f\"\"\"\n",
        "        Você é um guia de turismo especializado em João Pessoa, Paraíba. Sua tarefa é usar a ferramenta de busca do Google (google_search)\n",
        "        para responder a perguntas sobre pontos turísticos, restaurantes, hotéis, eventos e outras informações relevantes para turistas em João Pessoa.\n",
        "        Forneça informações precisas e atualizadas, considerando a data de hoje: {data_de_hoje}.\n",
        "        Se a pergunta for muito genérica, tente direcionar o usuário para os tipos de informações que você pode fornecer sobre João Pessoa.\n",
        "        \"\"\",\n",
        "        description=\"Agente que fornece informações turísticas sobre João Pessoa, Paraíba\",\n",
        "        tools=[google_search]\n",
        "    )\n",
        "\n",
        "    entrada_do_agente_turismo = f\"Pergunta do usuário: {pergunta}\\nData de hoje: {data_de_hoje}\\nLocalização: João Pessoa, Paraíba\"\n",
        "    resposta_do_agente = call_agent(buscador_turismo, entrada_do_agente_turismo)\n",
        "    return resposta_do_agente"
      ]
    },
    {
      "cell_type": "code",
      "execution_count": 9,
      "metadata": {
        "colab": {
          "base_uri": "https://localhost:8080/",
          "height": 732
        },
        "id": "T_amAcifAE3T",
        "outputId": "9f520781-dbf5-4bc9-e11f-afa02e3f65eb"
      },
      "outputs": [
        {
          "name": "stdout",
          "output_type": "stream",
          "text": [
            "Olá! Sou seu guia de turismo sobre João Pessoa.\n",
            "Como posso te ajudar hoje? (Digite 'sair' para encerrar)\n",
            "> Pontos turisticos de joao pessoa\n"
          ]
        },
        {
          "data": {
            "text/markdown": [
              "> **Você perguntou:** Pontos turisticos de joao pessoa"
            ],
            "text/plain": [
              "<IPython.core.display.Markdown object>"
            ]
          },
          "metadata": {},
          "output_type": "display_data"
        },
        {
          "data": {
            "text/markdown": [
              "> **Resposta:**\n",
              "> João Pessoa oferece uma variedade de pontos turísticos para todos os gostos. Aqui estão algumas sugestões:\n",
              "> \n",
              "> **Praias:**\n",
              "> \n",
              "> *   **Praia de Tambaú:** A praia mais turística da cidade, com muitos hotéis, restaurantes e feiras de artesanato. Ideal para quem busca agito e conveniência.\n",
              "> *   **Praia de Cabo Branco:** Vizinha de Tambaú, Cabo Branco é uma ótima opção para quem busca um pouco mais de tranquilidade.\n",
              "> *   **Praia do Bessa:** Uma praia mais extensa e tranquila, ideal para relaxar e praticar esportes como stand-up paddle e caiaque.\n",
              "> *   **Praia de Manaíra:** Apesar de estar localizada em uma área central, esta praia é menos movimentada, sendo uma boa opção para quem busca sossego.\n",
              "> *   **Praia de Ponta do Seixas:** Localizada no ponto mais oriental das Américas, com falésias e piscinas naturais.\n",
              "> *   **Praia do Jacaré:** Famosa pelo pôr do sol ao som do Bolero de Ravel.\n",
              "> \n",
              "> **Outros Pontos Turísticos:**\n",
              "> \n",
              "> *   **Farol do Cabo Branco:** Um dos cartões postais da cidade, localizado no ponto mais oriental das Américas.\n",
              "> *   **Estação Cabo Branco - Ciência, Cultura e Artes:** Projetada por Oscar Niemeyer, oferece exposições, anfiteatro e um mirante com vista para o litoral.\n",
              "> *   **Centro Histórico:** Tombado pelo IPHAN, com construções dos séculos XVII e XVIII em estilos barroco e art nouveau.\n",
              "> \n",
              ">     *   **Igreja de São Francisco:** Um marco da arte colonial brasileira, com talhas douradas e azulejos portugueses.\n",
              ">     *   **Casa da Pólvora:** Construída no século XVIII, oferece vista para o Rio Sanhauá.\n",
              ">     *   **Hotel Globo:** Construção histórica com vista privilegiada do pôr do sol.\n",
              ">     *   **Teatro Santa Roza:** Um dos mais antigos teatros do Brasil.\n",
              ">     *   **Parque da Lagoa Sólon de Lucena:** Um parque no centro da cidade, ideal para um passeio relaxante.\n",
              "> *   **Mercado de Artesanato Paraibano e Feirinha de Tambaú:** Ótimos lugares para comprar lembranças e artesanato local.\n",
              "> *   **Ilha de Areia Vermelha:** Um banco de areia que surge na maré baixa, ideal para um passeio de catamarã e mergulho.\n",
              "> *   **Piscinas Naturais do Seixas e Picãozinho:** Ótimas para mergulho e observação da vida marinha.\n",
              "> \n",
              "> **Passeios Próximos:**\n",
              "> \n",
              "> *   **Litoral Sul:** Explore as praias da Costa do Conde, como Coqueirinho, Tambaba e Praia do Amor.\n",
              "> *   **Litoral Norte:** Visite a Praia de Camboinha e a Ilha de Areia Vermelha.\n",
              "> \n",
              "> Para mais informações sobre eventos culturais e atividades específicas durante sua visita em 2025, sugiro consultar guias de turismo locais ou sites de notícias e eventos de João Pessoa.\n",
              "> \n"
            ],
            "text/plain": [
              "<IPython.core.display.Markdown object>"
            ]
          },
          "metadata": {},
          "output_type": "display_data"
        },
        {
          "name": "stdout",
          "output_type": "stream",
          "text": [
            "> sair\n",
            "Obrigado por usar nosso guia! Até a próxima!\n"
          ]
        }
      ],
      "source": [
        "# Interação com o Chatbot\n",
        "hoje = date.today().strftime(\"%Y-%m-%d\")\n",
        "\n",
        "print(\"Olá! Sou seu guia de turismo sobre João Pessoa.\")\n",
        "print(\"Como posso te ajudar hoje? (Digite 'sair' para encerrar)\")\n",
        "\n",
        "while True:\n",
        "    pergunta_usuario = input(\"> \")\n",
        "    if pergunta_usuario.lower() == 'sair':\n",
        "        print(\"Obrigado por usar nosso guia! Até a próxima!\")\n",
        "        break\n",
        "    elif pergunta_usuario:\n",
        "        resposta_do_agente = agente_turismo(pergunta_usuario, hoje)\n",
        "        display(to_markdown(f\"**Você perguntou:** {pergunta_usuario}\"))\n",
        "        display(to_markdown(f\"**Resposta:**\\n{resposta_do_agente}\"))\n",
        "    else:\n",
        "        print(\"Por favor, digite sua pergunta.\")"
      ]
    },
    {
      "cell_type": "code",
      "execution_count": null,
      "metadata": {
        "id": "w4Xas1NfCFz2"
      },
      "outputs": [],
      "source": [
        "# Exemplo de pergunta sobre pontos turísticos\n",
        "pergunta_pontos_turisticos = \"Quais os principais pontos turísticos de João Pessoa?\"\n",
        "resposta_pontos_turisticos = agente_turismo(pergunta_pontos_turisticos, hoje)\n",
        "display(to_markdown(f\"**Pergunta:** {pergunta_pontos_turisticos}\"))\n",
        "display(to_markdown(f\"**Resposta do Agente de Turismo:**\\n{resposta_pontos_turisticos}\"))"
      ]
    },
    {
      "cell_type": "code",
      "execution_count": null,
      "metadata": {
        "id": "D9vwwsYTCLqV"
      },
      "outputs": [],
      "source": [
        "# Exemplo de pergunta sobre restaurantes\n",
        "pergunta_restaurante = \"Onde posso comer uma boa comida regional em João Pessoa?\"\n",
        "resposta_restaurante = agente_turismo(pergunta_restaurante, hoje)\n",
        "display(to_markdown(f\"**Pergunta:** {pergunta_restaurante}\"))\n",
        "display(to_markdown(f\"**Resposta do Agente de Turismo:**\\n{resposta_restaurante}\"))"
      ]
    },
    {
      "cell_type": "code",
      "execution_count": null,
      "metadata": {
        "id": "o1oXRHD3CSKi"
      },
      "outputs": [],
      "source": [
        "# Exemplo de pergunta sobre hotéis\n",
        "pergunta_hotel = \"Tem hotéis bem avaliados em João Pessoa?\"\n",
        "resposta_hotel = agente_turismo(pergunta_hotel, hoje)\n",
        "display(to_markdown(f\"**Pergunta:** {pergunta_hotel}\"))\n",
        "display(to_markdown(f\"**Resposta do Agente de Turismo:**\\n{resposta_hotel}\"))"
      ]
    },
    {
      "cell_type": "code",
      "execution_count": null,
      "metadata": {
        "id": "hBYu64EBCVxA"
      },
      "outputs": [],
      "source": [
        "# Exemplo de pergunta sobre eventos\n",
        "pergunta_evento = \"O que está acontecendo de interessante em João Pessoa neste fim de semana?\"\n",
        "resposta_evento = agente_turismo(pergunta_evento, hoje)\n",
        "display(to_markdown(f\"**Pergunta:** {pergunta_evento}\"))\n",
        "display(to_markdown(f\"**Resposta do Agente de Turismo:**\\n{resposta_evento}\"))"
      ]
    }
  ],
  "metadata": {
    "colab": {
      "provenance": []
    },
    "kernelspec": {
      "display_name": "Python 3",
      "name": "python3"
    },
    "language_info": {
      "name": "python"
    }
  },
  "nbformat": 4,
  "nbformat_minor": 0
}
